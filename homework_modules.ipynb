{
  "cells": [
    {
      "cell_type": "code",
      "execution_count": 16,
      "metadata": {
        "id": "3MeKai5Xj6eX"
      },
      "outputs": [],
      "source": [
        "import numpy as np"
      ]
    },
    {
      "cell_type": "markdown",
      "metadata": {
        "id": "wwlFrG-Tj6eY"
      },
      "source": [
        "**Module** is an abstract class which defines fundamental methods necessary for a training a neural network. You do not need to change anything here, just read the comments."
      ]
    },
    {
      "cell_type": "code",
      "execution_count": 17,
      "metadata": {
        "id": "W8BLmtZ3j6eZ"
      },
      "outputs": [],
      "source": [
        "class Module(object):\n",
        "    \"\"\"\n",
        "    Basically, you can think of a module as of a something (black box)\n",
        "    which can process `input` data and produce `ouput` data.\n",
        "    This is like applying a function which is called `forward`:\n",
        "\n",
        "        output = module.forward(input)\n",
        "\n",
        "    The module should be able to perform a backward pass: to differentiate the `forward` function.\n",
        "    More, it should be able to differentiate it if is a part of chain (chain rule).\n",
        "    The latter implies there is a gradient from previous step of a chain rule.\n",
        "\n",
        "        gradInput = module.backward(input, gradOutput)\n",
        "    \"\"\"\n",
        "    def __init__ (self):\n",
        "        self.output = None\n",
        "        self.gradInput = None\n",
        "        self.training = True\n",
        "\n",
        "    def forward(self, input):\n",
        "        \"\"\"\n",
        "        Takes an input object, and computes the corresponding output of the module.\n",
        "        \"\"\"\n",
        "        return self.updateOutput(input)\n",
        "\n",
        "    def backward(self,input, gradOutput):\n",
        "        \"\"\"\n",
        "        Performs a backpropagation step through the module, with respect to the given input.\n",
        "\n",
        "        This includes\n",
        "         - computing a gradient w.r.t. `input` (is needed for further backprop),\n",
        "         - computing a gradient w.r.t. parameters (to update parameters while optimizing).\n",
        "        \"\"\"\n",
        "        self.updateGradInput(input, gradOutput)\n",
        "        self.accGradParameters(input, gradOutput)\n",
        "        return self.gradInput\n",
        "\n",
        "\n",
        "    def updateOutput(self, input):\n",
        "        \"\"\"\n",
        "        Computes the output using the current parameter set of the class and input.\n",
        "        This function returns the result which is stored in the `output` field.\n",
        "\n",
        "        Make sure to both store the data in `output` field and return it.\n",
        "        \"\"\"\n",
        "\n",
        "        # The easiest case:\n",
        "\n",
        "        # self.output = input\n",
        "        # return self.output\n",
        "\n",
        "        pass\n",
        "\n",
        "    def updateGradInput(self, input, gradOutput):\n",
        "        \"\"\"\n",
        "        Computing the gradient of the module with respect to its own input.\n",
        "        This is returned in `gradInput`. Also, the `gradInput` state variable is updated accordingly.\n",
        "\n",
        "        The shape of `gradInput` is always the same as the shape of `input`.\n",
        "\n",
        "        Make sure to both store the gradients in `gradInput` field and return it.\n",
        "        \"\"\"\n",
        "\n",
        "        # The easiest case:\n",
        "\n",
        "        # self.gradInput = gradOutput\n",
        "        # return self.gradInput\n",
        "\n",
        "        pass\n",
        "\n",
        "    def accGradParameters(self, input, gradOutput):\n",
        "        \"\"\"\n",
        "        Computing the gradient of the module with respect to its own parameters.\n",
        "        No need to override if module has no parameters (e.g. ReLU).\n",
        "        \"\"\"\n",
        "        pass\n",
        "\n",
        "    def zeroGradParameters(self):\n",
        "        \"\"\"\n",
        "        Zeroes `gradParams` variable if the module has params.\n",
        "        \"\"\"\n",
        "        pass\n",
        "\n",
        "    def getParameters(self):\n",
        "        \"\"\"\n",
        "        Returns a list with its parameters.\n",
        "        If the module does not have parameters return empty list.\n",
        "        \"\"\"\n",
        "        return []\n",
        "\n",
        "    def getGradParameters(self):\n",
        "        \"\"\"\n",
        "        Returns a list with gradients with respect to its parameters.\n",
        "        If the module does not have parameters return empty list.\n",
        "        \"\"\"\n",
        "        return []\n",
        "\n",
        "    def train(self):\n",
        "        \"\"\"\n",
        "        Sets training mode for the module.\n",
        "        Training and testing behaviour differs for Dropout, BatchNorm.\n",
        "        \"\"\"\n",
        "        self.training = True\n",
        "\n",
        "    def evaluate(self):\n",
        "        \"\"\"\n",
        "        Sets evaluation mode for the module.\n",
        "        Training and testing behaviour differs for Dropout, BatchNorm.\n",
        "        \"\"\"\n",
        "        self.training = False\n",
        "\n",
        "    def __repr__(self):\n",
        "        \"\"\"\n",
        "        Pretty printing. Should be overrided in every module if you want\n",
        "        to have readable description.\n",
        "        \"\"\"\n",
        "        return \"Module\""
      ]
    },
    {
      "cell_type": "code",
      "source": [
        "# class Module(object):\n",
        "#     def __init__ (self):\n",
        "#         self.output = None\n",
        "#         self.gradInput = None\n",
        "#         self.training = True\n",
        "\n",
        "#     def forward(self, input):\n",
        "#         return self.updateOutput(input)\n",
        "\n",
        "#     def backward(self,input, gradOutput):\n",
        "#         self.updateGradInput(input, gradOutput)\n",
        "#         self.accGradParameters(input, gradOutput)\n",
        "#         return self.gradInput\n",
        "\n",
        "\n",
        "#     def updateOutput(self, input):\n",
        "#         pass\n",
        "\n",
        "#     def updateGradInput(self, input, gradOutput):\n",
        "#         pass\n",
        "\n",
        "#     def accGradParameters(self, input, gradOutput):\n",
        "#         pass\n",
        "\n",
        "#     def zeroGradParameters(self):\n",
        "#         pass\n",
        "\n",
        "#     def getParameters(self):\n",
        "#         return []\n",
        "\n",
        "#     def getGradParameters(self):\n",
        "#         return []\n",
        "\n",
        "#     def train(self):\n",
        "#         self.training = True\n",
        "\n",
        "#     def evaluate(self):\n",
        "#         self.training = False\n",
        "\n",
        "#     def __repr__(self):\n",
        "#         return \"Module\""
      ],
      "metadata": {
        "id": "bUdzX4h6dPXf"
      },
      "execution_count": 18,
      "outputs": []
    },
    {
      "cell_type": "markdown",
      "metadata": {
        "id": "mKRkIjT8j6eZ"
      },
      "source": [
        "# Sequential container"
      ]
    },
    {
      "cell_type": "markdown",
      "metadata": {
        "id": "Cb98PPpJj6ea"
      },
      "source": [
        "**Define** a forward and backward pass procedures."
      ]
    },
    {
      "cell_type": "code",
      "source": [
        "class Sequential(Module):\n",
        "    def __init__(self):\n",
        "        super(Sequential, self).__init__()\n",
        "        self.modules = []\n",
        "\n",
        "    def add(self, module):\n",
        "        self.modules.append(module)\n",
        "\n",
        "    def removebyidx(self, idx):\n",
        "        self.modules = self.modules[:idx]\n",
        "\n",
        "    def updateOutput(self, input):\n",
        "        self.output = input\n",
        "        for module in self.modules:\n",
        "            self.output = module.forward(self.output)\n",
        "        return self.output\n",
        "\n",
        "    def backward(self, input, gradOutput):\n",
        "        # for simplicity (readable code)\n",
        "        modules_inputs = [input] + [module.output for module in self.modules[:-1]]\n",
        "\n",
        "        self.gradInput = gradOutput\n",
        "        for module, module_input in zip(self.modules[::-1], modules_inputs[::-1]):\n",
        "            self.gradInput = module.backward(module_input, self.gradInput)\n",
        "\n",
        "        return self.gradInput\n",
        "\n",
        "    def zeroGradParameters(self):\n",
        "        for module in self.modules:\n",
        "            module.zeroGradParameters()\n",
        "\n",
        "    def getParameters(self):\n",
        "        return [x.getParameters() for x in self.modules]\n",
        "\n",
        "    def getGradParameters(self):\n",
        "        return [x.getGradParameters() for x in self.modules]\n",
        "\n",
        "    def __repr__(self):\n",
        "        string = \"\".join([str(x) + '\\n' for x in self.modules])\n",
        "        return string\n",
        "\n",
        "    def __getitem__(self,x):\n",
        "        return self.modules.__getitem__(x)\n",
        "\n",
        "    def train(self):\n",
        "        self.training = True\n",
        "        for module in self.modules:\n",
        "            module.train()\n",
        "\n",
        "    def evaluate(self):\n",
        "        self.training = False\n",
        "        for module in self.modules:\n",
        "            module.evaluate()"
      ],
      "metadata": {
        "id": "gDdoNYvxVBTA"
      },
      "execution_count": 19,
      "outputs": []
    },
    {
      "cell_type": "markdown",
      "metadata": {
        "id": "zfXdYfO4j6ea"
      },
      "source": [
        "# Layers"
      ]
    },
    {
      "cell_type": "markdown",
      "metadata": {
        "id": "ZuwvBkuNj6ea"
      },
      "source": [
        "## 1 (0.2). Linear transform layer\n",
        "Also known as dense layer, fully-connected layer, FC-layer, InnerProductLayer (in caffe), affine transform\n",
        "- input:   **`batch_size x n_feats1`**\n",
        "- output: **`batch_size x n_feats2`**"
      ]
    },
    {
      "cell_type": "code",
      "source": [
        "class Linear(Module):\n",
        "    def __init__(self, n_in, n_out):\n",
        "        super(Linear, self).__init__()\n",
        "\n",
        "        stdv = 1./np.sqrt(n_in)\n",
        "        self.W = np.random.uniform(-stdv, stdv, size = (n_out, n_in))\n",
        "        self.b = np.random.uniform(-stdv, stdv, size = n_out)\n",
        "\n",
        "        self.gradW = np.zeros_like(self.W)\n",
        "        self.gradb = np.zeros_like(self.b)\n",
        "\n",
        "    def updateOutput(self, input):\n",
        "        self.output = input.dot(self.W.T) + self.b\n",
        "        return self.output\n",
        "\n",
        "    def updateGradInput(self, input, gradOutput):\n",
        "        self.gradInput = gradOutput.dot(self.W).reshape(input.shape)\n",
        "\n",
        "        assert self.gradInput.shape == input.shape,\"wrong shape\"\n",
        "\n",
        "        return self.gradInput\n",
        "\n",
        "    def accGradParameters(self, input, gradOutput):\n",
        "        self.gradW = gradOutput.T.dot(input).reshape(self.W.shape)\n",
        "\n",
        "        assert self.gradW.shape == self.W.shape\n",
        "\n",
        "        self.gradb = np.ones_like(self.b) * gradOutput.sum(axis=0)\n",
        "\n",
        "        assert self.gradb.shape == self.b.shape\n",
        "\n",
        "        return self.gradW, self.gradb\n",
        "\n",
        "    def zeroGradParameters(self):\n",
        "        self.gradW.fill(0)\n",
        "        self.gradb.fill(0)\n",
        "\n",
        "    def getParameters(self):\n",
        "        return [self.W, self.b]\n",
        "\n",
        "    def getGradParameters(self):\n",
        "        return [self.gradW, self.gradb]\n",
        "\n",
        "    def __repr__(self):\n",
        "        s = self.W.shape\n",
        "        q = 'Linear %d -> %d' %(s[1],s[0])\n",
        "        return q"
      ],
      "metadata": {
        "id": "DF0tAtCH5xO2"
      },
      "execution_count": 20,
      "outputs": []
    },
    {
      "cell_type": "markdown",
      "metadata": {
        "id": "tNOnHXZJj6eb"
      },
      "source": [
        "## 2. (0.2) SoftMax\n",
        "- input:   **`batch_size x n_feats`**\n",
        "- output: **`batch_size x n_feats`**\n",
        "\n",
        "$\\text{softmax}(x)_i = \\frac{\\exp x_i} {\\sum_j \\exp x_j}$\n",
        "\n",
        "Recall that $\\text{softmax}(x) == \\text{softmax}(x - \\text{const})$. It makes possible to avoid computing exp() from large argument."
      ]
    },
    {
      "cell_type": "code",
      "source": [
        "class SoftMax(Module):\n",
        "    def __init__(self):\n",
        "         super(SoftMax, self).__init__()\n",
        "    def updateOutput(self, input):\n",
        "        self.output = np.subtract(input, input.max(axis=1, keepdims=True))\n",
        "        self.output = np.exp(input)/np.sum(np.exp(input), axis=1, keepdims=True)\n",
        "        return self.output\n",
        "    def updateGradInput(self, input, gradOutput):\n",
        "        exp = np.exp(np.subtract(input, input.max(axis=1, keepdims=True)))\n",
        "        denom = exp.sum(axis=1, keepdims=True)\n",
        "        e = np.diag(exp.dot(gradOutput.T))\n",
        "        self.gradInput = - np.diag(e).dot(exp)\n",
        "        self.gradInput += exp * denom * gradOutput\n",
        "        self.gradInput /= denom**2\n",
        "        return self.gradInput\n",
        "    def __repr__(self):\n",
        "        return \"SoftMax\""
      ],
      "metadata": {
        "id": "pXTbqXJk7Rx1"
      },
      "execution_count": 21,
      "outputs": []
    },
    {
      "cell_type": "markdown",
      "metadata": {
        "id": "Cy3DJjynj6eb"
      },
      "source": [
        "## 3. (0.2) LogSoftMax\n",
        "- input:   **`batch_size x n_feats`**\n",
        "- output: **`batch_size x n_feats`**\n",
        "\n",
        "$\\text{logsoftmax}(x)_i = \\log\\text{softmax}(x)_i = x_i - \\log {\\sum_j \\exp x_j}$\n",
        "\n",
        "The main goal of this layer is to be used in computation of log-likelihood loss."
      ]
    },
    {
      "cell_type": "code",
      "source": [
        "class LogSoftMax(Module):\n",
        "    def __init__(self):\n",
        "         super(LogSoftMax, self).__init__()\n",
        "\n",
        "    def updateOutput(self, input):\n",
        "        # start with normalization for numerical stability\n",
        "        self.output = np.subtract(input, input.max(axis=1, keepdims=True))\n",
        "\n",
        "        np.subtract(self.output, np.log(np.exp(self.output).sum(axis=1, keepdims=True)), out=self.output)\n",
        "        return self.output\n",
        "\n",
        "    def updateGradInput(self, input, gradOutput):\n",
        "        self.gradInput = gradOutput - np.exp(self.output) * np.sum(gradOutput, axis=1, keepdims=True)\n",
        "        return self.gradInput\n",
        "\n",
        "    def __repr__(self):\n",
        "        return \"LogSoftMax\""
      ],
      "metadata": {
        "id": "6UwGbZ6z96eI"
      },
      "execution_count": 22,
      "outputs": []
    },
    {
      "cell_type": "markdown",
      "metadata": {
        "id": "QP5QdmmPj6eb"
      },
      "source": [
        "## 4. (0.3) Batch normalization\n",
        "One of the most significant recent ideas that impacted NNs a lot is [**Batch normalization**](http://arxiv.org/abs/1502.03167). The idea is simple, yet effective: the features should be whitened ($mean = 0$, $std = 1$) all the way through NN. This improves the convergence for deep models letting it train them for days but not weeks. **You are** to implement the first part of the layer: features normalization. The second part (`ChannelwiseScaling` layer) is implemented below.\n",
        "\n",
        "- input:   **`batch_size x n_feats`**\n",
        "- output: **`batch_size x n_feats`**\n",
        "\n",
        "The layer should work as follows. While training (`self.training == True`) it transforms input as $$y = \\frac{x - \\mu}  {\\sqrt{\\sigma + \\epsilon}}$$\n",
        "where $\\mu$ and $\\sigma$ - mean and variance of feature values in **batch** and $\\epsilon$ is just a small number for numericall stability. Also during training, layer should maintain exponential moving average values for mean and variance:\n",
        "```\n",
        "    self.moving_mean = self.moving_mean * alpha + batch_mean * (1 - alpha)\n",
        "    self.moving_variance = self.moving_variance * alpha + batch_variance * (1 - alpha)\n",
        "```\n",
        "During testing (`self.training == False`) the layer normalizes input using moving_mean and moving_variance.\n",
        "\n",
        "Note that decomposition of batch normalization on normalization itself and channelwise scaling here is just a common **implementation** choice. In general \"batch normalization\" always assumes normalization + scaling."
      ]
    },
    {
      "cell_type": "code",
      "source": [
        "class BatchNormalization(Module):\n",
        "    EPS = 1e-3\n",
        "    def __init__(self, alpha = 0.):\n",
        "        super(BatchNormalization, self).__init__()\n",
        "        self.alpha = alpha\n",
        "        self.moving_mean = None\n",
        "        self.moving_variance = None\n",
        "\n",
        "    def updateMeanVariance(self, batch_mean, batch_variance):\n",
        "        self.moving_mean = batch_mean if self.moving_mean is None else self.moving_mean\n",
        "        self.moving_variance = batch_variance if self.moving_variance is None else self.moving_variance\n",
        "\n",
        "        # moving_mean update\n",
        "        np.multiply(self.moving_mean, self.alpha, out=self.moving_mean)\n",
        "        np.multiply(batch_mean, 1-self.alpha, out=batch_mean)\n",
        "        np.add(self.moving_mean, batch_mean, out=self.moving_mean)\n",
        "        # moving_variance\n",
        "        np.multiply(self.moving_variance, self.alpha, out=self.moving_variance)\n",
        "        np.multiply(batch_variance, 1-self.alpha, out=batch_variance)\n",
        "        np.add(self.moving_variance, batch_variance, out=self.moving_variance)\n",
        "\n",
        "    def updateOutput(self, input):\n",
        "        batch_mean = np.mean(input, axis=0) if self.training else self.moving_mean\n",
        "        batch_variance = np.var(input, axis=0) if self.training else self.moving_variance\n",
        "\n",
        "        self.output = (input - batch_mean) / np.sqrt(batch_variance + self.EPS)\n",
        "        if self.training:\n",
        "            self.updateMeanVariance(batch_mean, batch_variance)\n",
        "        return self.output\n",
        "\n",
        "    def updateGradInput(self, input, gradOutput):\n",
        "        batch_mean = np.mean(input, axis=0) if self.training else self.moving_mean\n",
        "        batch_variance = np.var(input, axis=0) if self.training else self.moving_variance\n",
        "        m = input.shape[0]\n",
        "\n",
        "        variable0 = input - batch_mean\n",
        "        variable1 = np.sum(gradOutput * variable0, axis=0)\n",
        "        variable2 = np.sum(gradOutput, axis=0)\n",
        "        variable3 = np.sqrt(batch_variance + self.EPS)\n",
        "\n",
        "        self.gradInput = gradOutput / variable3\n",
        "        self.gradInput -= variable1 * variable0 / m / variable3 / (batch_variance + self.EPS)\n",
        "        self.gradInput -= variable2 / m / variable3\n",
        "        self.gradInput += variable1 * np.sum(variable0, 0) / m**2 / variable3**(3/2)\n",
        "\n",
        "        return self.gradInput\n",
        "\n",
        "    def __repr__(self):\n",
        "        return \"BatchNormalization\"\n"
      ],
      "metadata": {
        "id": "O9Tkwm63TwId"
      },
      "execution_count": 23,
      "outputs": []
    },
    {
      "cell_type": "code",
      "execution_count": 24,
      "metadata": {
        "collapsed": true,
        "id": "8XUS3Lt-j6eb"
      },
      "outputs": [],
      "source": [
        "class ChannelwiseScaling(Module):\n",
        "    \"\"\"\n",
        "       Implements linear transform of input y = \\gamma * x + \\beta\n",
        "       where \\gamma, \\beta - learnable vectors of length x.shape[-1]\n",
        "    \"\"\"\n",
        "    def __init__(self, n_out):\n",
        "        super(ChannelwiseScaling, self).__init__()\n",
        "\n",
        "        stdv = 1./np.sqrt(n_out)\n",
        "        self.gamma = np.random.uniform(-stdv, stdv, size=n_out)\n",
        "        self.beta = np.random.uniform(-stdv, stdv, size=n_out)\n",
        "\n",
        "        self.gradGamma = np.zeros_like(self.gamma)\n",
        "        self.gradBeta = np.zeros_like(self.beta)\n",
        "\n",
        "    def updateOutput(self, input):\n",
        "        self.output = input * self.gamma + self.beta\n",
        "        return self.output\n",
        "\n",
        "    def updateGradInput(self, input, gradOutput):\n",
        "        self.gradInput = gradOutput * self.gamma\n",
        "        return self.gradInput\n",
        "\n",
        "    def accGradParameters(self, input, gradOutput):\n",
        "        self.gradBeta = np.sum(gradOutput, axis=0)\n",
        "        self.gradGamma = np.sum(gradOutput*input, axis=0)\n",
        "\n",
        "    def zeroGradParameters(self):\n",
        "        self.gradGamma.fill(0)\n",
        "        self.gradBeta.fill(0)\n",
        "\n",
        "    def getParameters(self):\n",
        "        return [self.gamma, self.beta]\n",
        "\n",
        "    def getGradParameters(self):\n",
        "        return [self.gradGamma, self.gradBeta]\n",
        "\n",
        "    def __repr__(self):\n",
        "        return \"ChannelwiseScaling\""
      ]
    },
    {
      "cell_type": "markdown",
      "metadata": {
        "id": "vA5zjM3jj6eb"
      },
      "source": [
        "Practical notes. If BatchNormalization is placed after a linear transformation layer (including dense layer, convolutions, channelwise scaling) that implements function like `y = weight * x + bias`, than bias adding become useless and could be omitted since its effect will be discarded while batch mean subtraction. If BatchNormalization (followed by `ChannelwiseScaling`) is placed before a layer that propagates scale (including ReLU, LeakyReLU) followed by any linear transformation layer than parameter `gamma` in `ChannelwiseScaling` could be freezed since it could be absorbed into the linear transformation layer."
      ]
    },
    {
      "cell_type": "markdown",
      "metadata": {
        "id": "Gackeo1cj6eb"
      },
      "source": [
        "## 5. (0.3) Dropout\n",
        "Implement [**dropout**](https://www.cs.toronto.edu/~hinton/absps/JMLRdropout.pdf). The idea and implementation is really simple: just multimply the input by $Bernoulli(p)$ mask. Here $p$ is probability of an element to be zeroed.\n",
        "\n",
        "This has proven to be an effective technique for regularization and preventing the co-adaptation of neurons.\n",
        "\n",
        "While training (`self.training == True`) it should sample a mask on each iteration (for every batch), zero out elements and multiply elements by $1 / (1 - p)$. The latter is needed for keeping mean values of features close to mean values which will be in test mode. When testing this module should implement identity transform i.e. `self.output = input`.\n",
        "\n",
        "- input:   **`batch_size x n_feats`**\n",
        "- output: **`batch_size x n_feats`**"
      ]
    },
    {
      "cell_type": "code",
      "source": [
        "class Dropout(Module):\n",
        "    def __init__(self, p=0.5):\n",
        "        super(Dropout, self).__init__()\n",
        "        self.p, self.mask = p, None\n",
        "\n",
        "    def updateOutput(self, input):\n",
        "        if not self.training:\n",
        "            self.output = input\n",
        "            return self.output\n",
        "        self.mask = np.random.choice(2, input.shape, p=[self.p, (1.0 - self.p)])\n",
        "        self.output = np.multiply(input, self.mask) / (1 - self.p)\n",
        "        return self.output\n",
        "\n",
        "    def updateGradInput(self, input, gradOutput):\n",
        "        self.gradInput = np.multiply(gradOutput, self.mask) / (1 - self.p)\n",
        "        return self.gradInput\n",
        "\n",
        "    def __repr__(self):\n",
        "        return \"Dropout\""
      ],
      "metadata": {
        "id": "dtPWTyapT12i"
      },
      "execution_count": 25,
      "outputs": []
    },
    {
      "cell_type": "markdown",
      "source": [
        "#6. (2.0) Conv2d\n",
        "Implement [**Conv2d**](https://pytorch.org/docs/stable/generated/torch.nn.Conv2d.html). Use only this list of parameters: (in_channels, out_channels, kernel_size, stride, padding, bias, padding_mode) and fix dilation=1 and groups=1."
      ],
      "metadata": {
        "id": "-WHGIqJFlhz2"
      }
    },
    {
      "cell_type": "code",
      "source": [
        "import numpy as np\n",
        "\n",
        "class Conv2d(Module):\n",
        "    def __init__(self, in_channels, out_channels, kernel_size,\n",
        "                 stride=1, padding=0, bias=True, padding_mode='zeros'):\n",
        "        super(Conv2d, self).__init__()\n",
        "\n",
        "        self.in_channels = in_channels\n",
        "        self.out_channels = out_channels\n",
        "        self.kernel_size = kernel_size\n",
        "        self.stride = stride if isinstance(stride, tuple) else (stride, stride)\n",
        "        if padding == 'same':\n",
        "            self.padding = 'same'\n",
        "        else:\n",
        "            self.padding = padding if isinstance(padding, tuple) else (padding, padding)\n",
        "\n",
        "        self.bias = bias if bias else None\n",
        "\n",
        "        padding_modes = {'zeros': 'constant', 'replicate': 'edge', 'reflect': 'reflect'}\n",
        "        self.padding_mode = padding_modes.get(padding_mode, padding_mode)\n",
        "\n",
        "        self.weight = np.random.randn(out_channels, in_channels, kernel_size, kernel_size).astype(np.float32)\n",
        "        if bias:\n",
        "            self.bias = np.random.randn(out_channels).astype(np.float32)\n",
        "\n",
        "    def updateOutput(self, input):\n",
        "        batch_size, _, height, width = input.shape\n",
        "        kernel_size = self.kernel_size\n",
        "        stride_h, stride_w = self.stride\n",
        "\n",
        "        if self.padding == 'same':\n",
        "            pad_h = (kernel_size - 1) // 2\n",
        "            pad_w = (kernel_size - 1) // 2\n",
        "            self.padding = (pad_h, pad_w)\n",
        "        else:\n",
        "            pad_h, pad_w = self.padding\n",
        "\n",
        "        if pad_h > 0 or pad_w > 0:\n",
        "            input = np.pad(input, ((0, 0), (0, 0), (pad_h, pad_h), (pad_w, pad_w)), mode=self.padding_mode)\n",
        "\n",
        "        out_height = (height + 2 * pad_h - kernel_size) // stride_h + 1\n",
        "        out_width = (width + 2 * pad_w - kernel_size) // stride_w + 1\n",
        "\n",
        "        self.output = np.zeros((batch_size, self.out_channels, out_height, out_width), dtype=np.float32)\n",
        "\n",
        "        for b in range(batch_size):\n",
        "            for oc in range(self.out_channels):\n",
        "                for i in range(out_height):\n",
        "                    for j in range(out_width):\n",
        "                        h_start, w_start = i * stride_h, j * stride_w\n",
        "                        h_end, w_end = h_start + kernel_size, w_start + kernel_size\n",
        "\n",
        "                        self.output[b, oc, i, j] = np.sum(\n",
        "                            input[b, :, h_start:h_end, w_start:w_end] * self.weight[oc]\n",
        "                        )\n",
        "                        if self.bias is not None:\n",
        "                            self.output[b, oc, i, j] += self.bias[oc]\n",
        "\n",
        "        return self.output\n",
        "\n",
        "    def updateGradInput(self, input, gradOutput):\n",
        "        batch_size, _, height, width = input.shape\n",
        "        kernel_size = self.kernel_size\n",
        "        stride_h, stride_w = self.stride\n",
        "\n",
        "        if self.padding == 'same':\n",
        "            pad_h = (kernel_size - 1) // 2\n",
        "            pad_w = (kernel_size - 1) // 2\n",
        "            self.padding = (pad_h, pad_w)\n",
        "        else:\n",
        "            pad_h, pad_w = self.padding\n",
        "\n",
        "        if pad_h > 0 or pad_w > 0:\n",
        "            input = np.pad(input, ((0, 0), (0, 0), (pad_h, pad_h), (pad_w, pad_w)), mode=self.padding_mode)\n",
        "\n",
        "        self.gradInput = np.zeros_like(input)\n",
        "\n",
        "        for b in range(batch_size):\n",
        "            for oc in range(self.out_channels):\n",
        "                for i in range(gradOutput.shape[2]):\n",
        "                    for j in range(gradOutput.shape[3]):\n",
        "                        h_start, w_start = i * stride_h, j * stride_w\n",
        "                        h_end, w_end = h_start + kernel_size, w_start + kernel_size\n",
        "\n",
        "                        self.gradInput[b, :, h_start:h_end, w_start:w_end] += gradOutput[b, oc, i, j] * self.weight[oc]\n",
        "\n",
        "        if pad_h > 0 or pad_w > 0:\n",
        "            self.gradInput = self.gradInput[:, :, pad_h:-pad_h, pad_w:-pad_w]\n",
        "\n",
        "        return self.gradInput\n",
        "\n",
        "    def __repr__(self):\n",
        "        return \"Conv2d\"\n"
      ],
      "metadata": {
        "id": "jGvyCdJtSBwT"
      },
      "execution_count": 26,
      "outputs": []
    },
    {
      "cell_type": "markdown",
      "source": [
        "#7. (0.5) Implement [**MaxPool2d**](https://pytorch.org/docs/stable/generated/torch.nn.MaxPool2d.html) and [**AvgPool2d**](https://pytorch.org/docs/stable/generated/torch.nn.AvgPool2d.html). Use only parameters like kernel_size, stride, padding (negative infinity for maxpool and zero for avgpool) and other parameters fixed as in framework."
      ],
      "metadata": {
        "id": "updUVZE9qixP"
      }
    },
    {
      "cell_type": "code",
      "source": [
        "import numpy as np\n",
        "\n",
        "class MaxPool2d(Module):\n",
        "    def __init__(self, kernel_size, stride, padding):\n",
        "        super(MaxPool2d, self).__init__()\n",
        "\n",
        "        self.kernel_size = kernel_size\n",
        "        self.stride = stride\n",
        "        self.padding = padding\n",
        "\n",
        "    def updateOutput(self, input):\n",
        "        batch_size, channels, height, width = input.shape\n",
        "        out_height = (height - self.kernel_size) // self.stride + 1\n",
        "        out_width = (width - self.kernel_size) // self.stride + 1\n",
        "\n",
        "        self.output = np.zeros((batch_size, channels, out_height, out_width), dtype=input.dtype)\n",
        "        self.max_indices = np.zeros_like(input, dtype=int)\n",
        "\n",
        "        for i in range(out_height):\n",
        "            for j in range(out_width):\n",
        "                h_start, h_end = i * self.stride, i * self.stride + self.kernel_size\n",
        "                w_start, w_end = j * self.stride, j * self.stride + self.kernel_size\n",
        "\n",
        "                region = input[:, :, h_start:h_end, w_start:w_end]\n",
        "                self.output[:, :, i, j] = np.max(region, axis=(2, 3))\n",
        "\n",
        "                mask = region == self.output[:, :, i, j][:, :, None, None]\n",
        "                self.max_indices[:, :, h_start:h_end, w_start:w_end] = mask\n",
        "\n",
        "        return self.output\n",
        "\n",
        "    def updateGradInput(self, input, gradOutput):\n",
        "        batch_size, channels, height, width = input.shape\n",
        "        self.gradInput = np.zeros_like(input)\n",
        "\n",
        "        out_height, out_width = gradOutput.shape[2], gradOutput.shape[3]\n",
        "\n",
        "        for i in range(out_height):\n",
        "            for j in range(out_width):\n",
        "                h_start, h_end = i * self.stride, i * self.stride + self.kernel_size\n",
        "                w_start, w_end = j * self.stride, j * self.stride + self.kernel_size\n",
        "\n",
        "                mask = self.max_indices[:, :, h_start:h_end, w_start:w_end]\n",
        "                self.gradInput[:, :, h_start:h_end, w_start:w_end] += mask * gradOutput[:, :, i, j][:, :, None, None]\n",
        "\n",
        "        return self.gradInput\n",
        "\n",
        "    def __repr__(self):\n",
        "        return \"MaxPool2d\"\n"
      ],
      "metadata": {
        "id": "0zBXmB0ScezL"
      },
      "execution_count": 27,
      "outputs": []
    },
    {
      "cell_type": "code",
      "source": [
        "class AvgPool2d(Module):\n",
        "    def __init__(self, kernel_size, stride, padding):\n",
        "        super(AvgPool2d, self).__init__()\n",
        "\n",
        "        self.kernel_size = (kernel_size, kernel_size) if isinstance(kernel_size, int) else kernel_size\n",
        "        self.stride = (stride, stride) if isinstance(stride, int) else stride\n",
        "        self.padding = (padding, padding) if isinstance(padding, int) else padding\n",
        "        self.cache = None\n",
        "\n",
        "    def updateOutput(self, input):\n",
        "        # Your code goes here. ################################################\n",
        "        batch, num_channels, H_in, W_in = input.shape\n",
        "        H_out = ((H_in + 2*self.padding[0] - self.kernel_size[0])//self.stride[0] + 1)\n",
        "        W_out = ((W_in + 2*self.padding[1] - self.kernel_size[1])//self.stride[1] + 1)\n",
        "\n",
        "        self.output = np.zeros((batch, num_channels, H_out, W_out))\n",
        "        self.indices = np.zeros((batch, num_channels, H_out, W_out, 2), dtype=int)\n",
        "        padding = np.pad(input,\n",
        "                            ((0,0), (0,0), (self.padding[0],self.padding[0]), (self.padding[1], self.padding[1])),\n",
        "                            mode='constant')\n",
        "        for b in range(batch):\n",
        "            for c in range(num_channels):\n",
        "                for i in range(H_out):\n",
        "                    for j in range(W_out):\n",
        "                        h_start = i * self.stride[0]\n",
        "                        h_end = h_start + self.kernel_size[0]\n",
        "                        w_start = j * self.stride[1]\n",
        "                        w_end = w_start + self.kernel_size[1]\n",
        "\n",
        "                        window = padding[b, c, h_start:h_end, w_start:w_end]\n",
        "                        self.output[b, c, i, j] = np.mean(window)\n",
        "        self.cache = (batch, num_channels, H_in, W_in)\n",
        "        return  self.output\n",
        "\n",
        "    def updateGradInput(self, input, gradOutput):\n",
        "        # Your code goes here. ################################################\n",
        "        batch, num_channels, H_in, W_in = self.cache\n",
        "        out_shape = (batch, num_channels,\n",
        "                       H_in + 2*self.padding[0], W_in + 2*self.padding[1])\n",
        "        self.gradInput = np.zeros(out_shape)\n",
        "        norm_win = 1 / (self.kernel_size[0] * self.kernel_size[1])\n",
        "        for b in range(batch):\n",
        "            for c in range(num_channels):\n",
        "                for i in range(gradOutput.shape[2]):\n",
        "                    for j in range(gradOutput.shape[3]):\n",
        "                        h_start = i * self.stride[0]\n",
        "                        h_end = h_start + self.kernel_size[0]\n",
        "                        w_start = j * self.stride[1]\n",
        "                        w_end = w_start + self.kernel_size[1]\n",
        "                        self.gradInput[b, c, h_start:h_end, w_start:w_end] += gradOutput[b, c, i, j] * norm_win\n",
        "\n",
        "        if self.padding[0] > 0 or self.padding[1] > 0:\n",
        "            self.gradInput = self.gradInput[:, :, self.padding[0]:-self.padding[0], self.padding[1]:-self.padding[1]] if self.padding[0] > 0 and self.padding[1] > 0 else \\\n",
        "                           self.gradInput[:, :, self.padding[0]:-self.padding[0], :] if self.padding[0] > 0 else \\\n",
        "                           self.gradInput[:, :, :, self.padding[1]:-self.padding[1]]\n",
        "        return self.gradInput\n",
        "\n",
        "    def __repr__(self):\n",
        "        return \"AvgPool2d\""
      ],
      "metadata": {
        "id": "KbL0dJvN7Xh_"
      },
      "execution_count": 28,
      "outputs": []
    },
    {
      "cell_type": "markdown",
      "source": [
        "#8. (0.3) Implement **GlobalMaxPool2d** and **GlobalAvgPool2d**. They do not have testing and parameters are up to you but they must aggregate information within channels. Write test functions for these layers on your own."
      ],
      "metadata": {
        "id": "KTN5R3CwrukV"
      }
    },
    {
      "cell_type": "code",
      "source": [
        "class GlobalMaxPool2d(Module):\n",
        "    def __init__(self):\n",
        "        super(GlobalMaxPool2d, self).__init__()\n",
        "\n",
        "    def updateOutput(self, input):\n",
        "        batch_size, channels, height, width = input.shape\n",
        "        self.output = np.max(input, axis=(2, 3), keepdims=True)\n",
        "        return self.output\n",
        "\n",
        "    def updateGradInput(self, input, gradOutput):\n",
        "        batch_size, channels, height, width = input.shape\n",
        "        self.gradInput = np.zeros_like(input)\n",
        "\n",
        "        max_mask = (input == self.output)\n",
        "\n",
        "        num_max = np.sum(max_mask, axis=(2, 3), keepdims=True)\n",
        "        self.gradInput += max_mask * (gradOutput / num_max)\n",
        "\n",
        "        return self.gradInput\n",
        "\n",
        "    def __repr__(self):\n",
        "        return \"GlobalMaxPool2d\"\n",
        "\n",
        "\n",
        "class GlobalAvgPool2d(Module):\n",
        "    def __init__(self):\n",
        "        super(GlobalAvgPool2d, self).__init__()\n",
        "\n",
        "    def updateOutput(self, input):\n",
        "        batch_size, channels, height, width = input.shape\n",
        "        self.output = np.mean(input, axis=(2, 3), keepdims=True)\n",
        "        return self.output\n",
        "\n",
        "    def updateGradInput(self, input, gradOutput):\n",
        "        batch_size, channels, height, width = input.shape\n",
        "        self.gradInput = np.ones_like(input) * (gradOutput / (height * width))\n",
        "        return self.gradInput\n",
        "\n",
        "    def __repr__(self):\n",
        "        return \"GlobalAvgPool2d\""
      ],
      "metadata": {
        "id": "QBCvTqz8fnPU"
      },
      "execution_count": 29,
      "outputs": []
    },
    {
      "cell_type": "code",
      "source": [
        "import torch\n",
        "from torch.autograd import Variable\n",
        "import numpy\n",
        "import unittest\n",
        "class TestLayers(unittest.TestCase):\n",
        "  def test_GlobalMaxPool2d(self):\n",
        "      np.random.seed(42)\n",
        "      torch.manual_seed(42)\n",
        "\n",
        "      batch_size, channels, height, width = 4, 3, 16, 16\n",
        "\n",
        "      for _ in range(100):\n",
        "          custom_module = GlobalMaxPool2d()\n",
        "          custom_module.train()\n",
        "\n",
        "          torch_module = torch.nn.AdaptiveMaxPool2d(1)\n",
        "\n",
        "          input_np = np.random.randn(batch_size, channels, height, width).astype(np.float32)\n",
        "          input_var = torch.tensor(input_np, requires_grad=True)\n",
        "\n",
        "          custom_output = custom_module.updateOutput(input_np)\n",
        "          torch_output = torch_module(input_var)\n",
        "          self.assertTrue(\n",
        "              np.allclose(torch_output.detach().numpy(), custom_output, atol=1e-6))\n",
        "\n",
        "          next_grad = np.random.randn(*torch_output.shape).astype(np.float32)\n",
        "          custom_grad = custom_module.updateGradInput(input_np, next_grad)\n",
        "          torch_output.backward(torch.tensor(next_grad))\n",
        "          torch_grad = input_var.grad.detach().numpy()\n",
        "          self.assertTrue(\n",
        "              np.allclose(torch_grad, custom_grad, atol=1e-5))\n",
        "\n",
        "\n",
        "  def test_GlobalAvgPool2d(self):\n",
        "      np.random.seed(42)\n",
        "      torch.manual_seed(42)\n",
        "\n",
        "      batch_size, channels, height, width = 4, 3, 16, 16\n",
        "\n",
        "      for _ in range(100):\n",
        "          custom_module = GlobalAvgPool2d()\n",
        "          custom_module.train()\n",
        "\n",
        "          torch_module = torch.nn.AdaptiveAvgPool2d(1)\n",
        "\n",
        "          input_np = np.random.randn(batch_size, channels, height, width).astype(np.float32)\n",
        "          input_var = torch.tensor(input_np, requires_grad=True)\n",
        "\n",
        "          custom_output = custom_module.updateOutput(input_np)\n",
        "          torch_output = torch_module(input_var)\n",
        "          self.assertTrue(\n",
        "              np.allclose(torch_output.detach().numpy(), custom_output, atol=1e-6))\n",
        "\n",
        "          next_grad = np.random.randn(*torch_output.shape).astype(np.float32)\n",
        "          custom_grad = custom_module.updateGradInput(input_np, next_grad)\n",
        "          torch_output.backward(torch.tensor(next_grad))\n",
        "          torch_grad = input_var.grad.detach().numpy()\n",
        "          self.assertTrue(\n",
        "              np.allclose(torch_grad, custom_grad, atol=1e-5))\n",
        "suite = unittest.TestLoader().loadTestsFromTestCase(TestLayers)\n",
        "unittest.TextTestRunner(verbosity=2).run(suite)"
      ],
      "metadata": {
        "colab": {
          "base_uri": "https://localhost:8080/"
        },
        "id": "YFHL9fQpOtsG",
        "outputId": "9c156175-dab0-4b47-9c09-f32cb5721fa4"
      },
      "execution_count": 15,
      "outputs": [
        {
          "output_type": "stream",
          "name": "stderr",
          "text": [
            "test_GlobalAvgPool2d (__main__.TestLayers.test_GlobalAvgPool2d) ... ok\n",
            "test_GlobalMaxPool2d (__main__.TestLayers.test_GlobalMaxPool2d) ... ok\n",
            "\n",
            "----------------------------------------------------------------------\n",
            "Ran 2 tests in 13.133s\n",
            "\n",
            "OK\n"
          ]
        },
        {
          "output_type": "execute_result",
          "data": {
            "text/plain": [
              "<unittest.runner.TextTestResult run=2 errors=0 failures=0>"
            ]
          },
          "metadata": {},
          "execution_count": 15
        }
      ]
    },
    {
      "cell_type": "markdown",
      "source": [
        "#9. (0.2) Implement [**Flatten**](https://pytorch.org/docs/stable/generated/torch.flatten.html)"
      ],
      "metadata": {
        "id": "cYeBQDBhtViy"
      }
    },
    {
      "cell_type": "code",
      "source": [
        "class Flatten(Module):\n",
        "    def __init__(self, start_dim=0, end_dim=-1):\n",
        "        super(Flatten, self).__init__()\n",
        "        self.start_dim = start_dim\n",
        "        self.end_dim = end_dim\n",
        "\n",
        "    def updateOutput(self, input):\n",
        "        self.original_shape = input.shape\n",
        "        start_dim = self.start_dim\n",
        "        end_dim = self.end_dim if self.end_dim != -1 else len(input.shape) - 1\n",
        "\n",
        "        flattened_shape = input.shape[:start_dim] + (-1,) + input.shape[end_dim+1:]\n",
        "        self.output = input.reshape(flattened_shape)\n",
        "        return self.output\n",
        "\n",
        "    def updateGradInput(self, input, gradOutput):\n",
        "        self.gradInput = gradOutput.reshape(self.original_shape)\n",
        "        return self.gradInput\n",
        "\n",
        "    def __repr__(self):\n",
        "        return \"Flatten\"\n"
      ],
      "metadata": {
        "id": "wN-CGpRJe0NU"
      },
      "execution_count": 30,
      "outputs": []
    },
    {
      "cell_type": "markdown",
      "metadata": {
        "id": "o36vPHSSj6eb"
      },
      "source": [
        "# Activation functions"
      ]
    },
    {
      "cell_type": "markdown",
      "metadata": {
        "id": "l_pryRQIj6ec"
      },
      "source": [
        "Here's the complete example for the **Rectified Linear Unit** non-linearity (aka **ReLU**):"
      ]
    },
    {
      "cell_type": "code",
      "execution_count": 31,
      "metadata": {
        "collapsed": true,
        "id": "sgm8bXjKj6ec"
      },
      "outputs": [],
      "source": [
        "class ReLU(Module):\n",
        "    def __init__(self):\n",
        "         super(ReLU, self).__init__()\n",
        "\n",
        "    def updateOutput(self, input):\n",
        "        self.output = np.maximum(input, 0)\n",
        "        return self.output\n",
        "\n",
        "    def updateGradInput(self, input, gradOutput):\n",
        "        self.gradInput = np.multiply(gradOutput , input > 0)\n",
        "        return self.gradInput\n",
        "\n",
        "    def __repr__(self):\n",
        "        return \"ReLU\""
      ]
    },
    {
      "cell_type": "markdown",
      "metadata": {
        "id": "yB0UHGagj6ec"
      },
      "source": [
        "## 10. (0.1) Leaky ReLU\n",
        "Implement [**Leaky Rectified Linear Unit**](http://en.wikipedia.org/wiki%2FRectifier_%28neural_networks%29%23Leaky_ReLUs). Expriment with slope."
      ]
    },
    {
      "cell_type": "code",
      "source": [
        "class LeakyReLU(Module):\n",
        "    def __init__(self, slope = 0.03):\n",
        "        super(LeakyReLU, self).__init__()\n",
        "        self.slope = slope\n",
        "\n",
        "    def updateOutput(self, input):\n",
        "        routine = np.maximum if self.slope <= 1. else np.minimum\n",
        "        self.output = routine(input, input * self.slope)\n",
        "        return  self.output\n",
        "\n",
        "    def updateGradInput(self, input, gradOutput):\n",
        "        self.gradInput = np.where(input > 0, gradOutput, self.slope * gradOutput)\n",
        "        return self.gradInput\n",
        "\n",
        "    def __repr__(self):\n",
        "        return \"LeakyReLU\""
      ],
      "metadata": {
        "id": "e0Ccu7sR70Mu"
      },
      "execution_count": 32,
      "outputs": []
    },
    {
      "cell_type": "markdown",
      "metadata": {
        "id": "t-STyecvj6ec"
      },
      "source": [
        "## 11. (0.1) ELU\n",
        "Implement [**Exponential Linear Units**](http://arxiv.org/abs/1511.07289) activations."
      ]
    },
    {
      "cell_type": "code",
      "source": [
        "class ELU(Module):\n",
        "    def __init__(self, alpha = 1.0):\n",
        "        super(ELU, self).__init__()\n",
        "        self.alpha = alpha\n",
        "\n",
        "    def updateOutput(self, input):\n",
        "        self.output = np.where(input > 0, input, self.alpha * (np.exp(input) - 1.))\n",
        "        return self.output\n",
        "\n",
        "    def updateGradInput(self, input, gradOutput):\n",
        "        self.gradInput = np.where(input > 0, gradOutput, self.alpha * np.exp(input) * gradOutput)\n",
        "        return self.gradInput\n",
        "\n",
        "    def __repr__(self):\n",
        "        return \"ELU\""
      ],
      "metadata": {
        "id": "F8yYhZiKULSe"
      },
      "execution_count": 33,
      "outputs": []
    },
    {
      "cell_type": "markdown",
      "metadata": {
        "id": "Gn3C7KTqj6ec"
      },
      "source": [
        "## 12. (0.1) SoftPlus\n",
        "Implement [**SoftPlus**](https://en.wikipedia.org/wiki%2FRectifier_%28neural_networks%29) activations. Look, how they look a lot like ReLU."
      ]
    },
    {
      "cell_type": "code",
      "source": [
        "class SoftPlus(Module):\n",
        "    def __init__(self):\n",
        "        super(SoftPlus, self).__init__()\n",
        "\n",
        "    def updateOutput(self, input):\n",
        "        self.output = np.log(np.exp(input) + 1.)\n",
        "        return self.output\n",
        "\n",
        "    def updateGradInput(self, input, gradOutput):\n",
        "        self.gradInput = np.divide(gradOutput, np.add(np.exp(-input), 1.))\n",
        "        return self.gradInput\n",
        "\n",
        "    def __repr__(self):\n",
        "        return \"SoftPlus\"\n"
      ],
      "metadata": {
        "id": "VhgVzqviUOPR"
      },
      "execution_count": 34,
      "outputs": []
    },
    {
      "cell_type": "markdown",
      "source": [
        "#13. (0.2) Gelu\n",
        "Implement [**Gelu**](https://pytorch.org/docs/stable/generated/torch.nn.GELU.html) activations."
      ],
      "metadata": {
        "id": "kw3PeZjOuo0e"
      }
    },
    {
      "cell_type": "code",
      "source": [
        "import numpy as np\n",
        "from scipy.special import erf\n",
        "\n",
        "class Gelu(Module):\n",
        "    def __init__(self):\n",
        "        super(Gelu, self).__init__()\n",
        "\n",
        "    def updateOutput(self, input):\n",
        "        self.output = 0.5 * input * (1 + erf(input / np.sqrt(2)))\n",
        "        return self.output\n",
        "\n",
        "    def updateGradInput(self, input, gradOutput):\n",
        "        sqrt_2pi = np.sqrt(2 / np.pi)\n",
        "        erf_term = erf(input / np.sqrt(2))\n",
        "        exp_term = np.exp(-0.5 * input**2)\n",
        "\n",
        "        grad_gelu = 0.5 * (1 + erf_term) + (input * exp_term) / np.sqrt(2 * np.pi)\n",
        "        self.gradInput = gradOutput * grad_gelu\n",
        "        return self.gradInput\n",
        "\n",
        "    def __repr__(self):\n",
        "        return \"Gelu\"\n"
      ],
      "metadata": {
        "id": "dEU0xwiEbDv0"
      },
      "execution_count": 35,
      "outputs": []
    },
    {
      "cell_type": "markdown",
      "metadata": {
        "id": "55p7UvPAj6ec"
      },
      "source": [
        "# Criterions"
      ]
    },
    {
      "cell_type": "markdown",
      "metadata": {
        "id": "5NFaxZaqj6ec"
      },
      "source": [
        "Criterions are used to score the models answers."
      ]
    },
    {
      "cell_type": "code",
      "execution_count": 36,
      "metadata": {
        "id": "XGu45A8qj6ec"
      },
      "outputs": [],
      "source": [
        "class Criterion(object):\n",
        "    def __init__ (self):\n",
        "        self.output = None\n",
        "        self.gradInput = None\n",
        "\n",
        "    def forward(self, input, target):\n",
        "        return self.updateOutput(input, target)\n",
        "\n",
        "    def backward(self, input, target):\n",
        "        return self.updateGradInput(input, target)\n",
        "\n",
        "    def updateOutput(self, input, target):\n",
        "        return self.output\n",
        "\n",
        "    def updateGradInput(self, input, target):\n",
        "        return self.gradInput\n",
        "\n",
        "    def __repr__(self):\n",
        "        return \"Criterion\""
      ]
    },
    {
      "cell_type": "markdown",
      "metadata": {
        "id": "WuU26xkpj6ec"
      },
      "source": [
        "The **MSECriterion**, which is basic L2 norm usually used for regression, is implemented here for you.\n",
        "- input:   **`batch_size x n_feats`**\n",
        "- target: **`batch_size x n_feats`**\n",
        "- output: **scalar**"
      ]
    },
    {
      "cell_type": "code",
      "execution_count": 37,
      "metadata": {
        "id": "-i3VNuHhj6ec"
      },
      "outputs": [],
      "source": [
        "class MSECriterion(Criterion):\n",
        "    def __init__(self):\n",
        "        super(MSECriterion, self).__init__()\n",
        "\n",
        "    def updateOutput(self, input, target):\n",
        "        self.output = np.sum(np.power(input - target,2)) / input.shape[0]\n",
        "        return self.output\n",
        "\n",
        "    def updateGradInput(self, input, target):\n",
        "        self.gradInput  = (input - target) * 2 / input.shape[0]\n",
        "        return self.gradInput\n",
        "\n",
        "    def __repr__(self):\n",
        "        return \"MSECriterion\""
      ]
    },
    {
      "cell_type": "markdown",
      "metadata": {
        "id": "x8LKLWNVj6ec"
      },
      "source": [
        "## 14. (0.2) Negative LogLikelihood criterion (numerically unstable)\n",
        "You task is to implement the **ClassNLLCriterion**. It should implement [multiclass log loss](http://scikit-learn.org/stable/modules/model_evaluation.html#log-loss). Nevertheless there is a sum over `y` (target) in that formula,\n",
        "remember that targets are one-hot encoded. This fact simplifies the computations a lot. Note, that criterions are the only places, where you divide by batch size. Also there is a small hack with adding small number to probabilities to avoid computing log(0).\n",
        "- input:   **`batch_size x n_feats`** - probabilities\n",
        "- target: **`batch_size x n_feats`** - one-hot representation of ground truth\n",
        "- output: **scalar**\n",
        "\n"
      ]
    },
    {
      "cell_type": "code",
      "source": [
        "class ClassNLLCriterionUnstable(Criterion):\n",
        "    EPS = 1e-15\n",
        "    def __init__(self):\n",
        "        a = super(ClassNLLCriterionUnstable, self)\n",
        "        super(ClassNLLCriterionUnstable, self).__init__()\n",
        "\n",
        "    def updateOutput(self, input, target):\n",
        "        input_clamp = np.clip(input, self.EPS, 1 - self.EPS)\n",
        "\n",
        "        self.output = -np.sum(target * np.log(input_clamp)) / input.shape[0]\n",
        "        return self.output\n",
        "\n",
        "    def updateGradInput(self, input, target):\n",
        "        input_clamp = np.clip(input, self.EPS, 1 - self.EPS)\n",
        "\n",
        "        self.gradInput = -target / input_clamp / input.shape[0]\n",
        "        return self.gradInput\n",
        "\n",
        "    def __repr__(self):\n",
        "        return \"ClassNLLCriterionUnstable\""
      ],
      "metadata": {
        "id": "j1ReddPbUdAh"
      },
      "execution_count": 38,
      "outputs": []
    },
    {
      "cell_type": "markdown",
      "metadata": {
        "id": "uHr_JbU5j6ec"
      },
      "source": [
        "## 15. (0.3) Negative LogLikelihood criterion (numerically stable)\n",
        "- input:   **`batch_size x n_feats`** - log probabilities\n",
        "- target: **`batch_size x n_feats`** - one-hot representation of ground truth\n",
        "- output: **scalar**\n",
        "\n",
        "Task is similar to the previous one, but now the criterion input is the output of log-softmax layer. This decomposition allows us to avoid problems with computation of forward and backward of log()."
      ]
    },
    {
      "cell_type": "code",
      "execution_count": 39,
      "metadata": {
        "collapsed": true,
        "id": "E-ZnhKxaj6ed"
      },
      "outputs": [],
      "source": [
        "class ClassNLLCriterion(Criterion):\n",
        "    def __init__(self):\n",
        "        a = super(ClassNLLCriterion, self)\n",
        "        super(ClassNLLCriterion, self).__init__()\n",
        "\n",
        "    def updateOutput(self, input, target):\n",
        "        self.output = -np.sum(target * input) / input.shape[0]\n",
        "        return self.output\n",
        "\n",
        "    def updateGradInput(self, input, target):\n",
        "        self.gradInput = -target / input.shape[0]\n",
        "        return self.gradInput\n",
        "\n",
        "    def __repr__(self):\n",
        "        return \"ClassNLLCriterion\""
      ]
    },
    {
      "cell_type": "markdown",
      "source": [
        "1-я часть задания: реализация слоев, лосей и функций активации - 5 баллов. \\\\\n",
        "2-я часть задания: реализация моделей на своих классах. Что должно быть:\n",
        "  1. Выберите оптимизатор и реализуйте его, чтоб он работал с вами классами. - 1 балл.\n",
        "  2. Модель для задачи мультирегрессии на выбраных вами данных. Использовать FCNN, dropout, batchnorm, MSE. Пробуйте различные фукнции активации. Для первой модели попробуйте большую, среднюю и маленькую модель. - 1 балл.\n",
        "  3. Модель для задачи мультиклассификации на MNIST. Использовать свёртки, макспулы, флэттэны, софтмаксы - 1 балла.\n",
        "  4. Автоэнкодер для выбранных вами данных. Должен быть на свёртках и полносвязных слоях, дропаутах, батчнормах и тд. - 2 балла. \\\\\n",
        "\n",
        "Дополнительно в оценке каждой модели будет учитываться:\n",
        "1. Наличие правильно выбранной метрики и лосс функции.\n",
        "2. Отрисовка графиков лосей и метрик на трейне-валидации. Проверка качества модели на тесте.\n",
        "3. Наличие шедулера для lr.\n",
        "4. Наличие вормапа.\n",
        "5. Наличие механизма ранней остановки и сохранение лучшей модели.\n",
        "6. Свитч лося (метрики) и оптимайзера."
      ],
      "metadata": {
        "id": "TC2Bf1PP2Ios"
      }
    },
    {
      "cell_type": "code",
      "source": [
        "class SGDOptimizer:\n",
        "    def __init__(self, model, lr=0.01, momentum=0.0):\n",
        "        self.model = model\n",
        "        self.lr = lr\n",
        "        self.momentum = momentum\n",
        "        self.params = self._flatten(model.getParameters())\n",
        "        self.velocities = [np.zeros_like(p) for p in self.params]\n",
        "\n",
        "    def _flatten(self, params):\n",
        "        flat = []\n",
        "        for item in params:\n",
        "            if isinstance(item, (list, tuple)):\n",
        "                flat.extend(self._flatten(item))\n",
        "            elif isinstance(item, np.ndarray):\n",
        "                flat.append(item)\n",
        "            else:\n",
        "                raise ValueError(f\"Неподдерживаемый тип: {type(item)}\")\n",
        "        return flat\n",
        "\n",
        "    def step(self):\n",
        "        grads = self._flatten(self.model.getGradParameters())\n",
        "\n",
        "        for i in range(len(self.params)):\n",
        "            self.velocities[i] = self.momentum * self.velocities[i] - self.lr * grads[i]\n",
        "            self.params[i][...] += self.velocities[i]"
      ],
      "metadata": {
        "id": "TzVIcUUiQaCt"
      },
      "execution_count": 42,
      "outputs": []
    },
    {
      "cell_type": "code",
      "source": [
        "import seaborn as sns\n",
        "import matplotlib.pyplot as plt\n",
        "from IPython.display import clear_output\n",
        "from tqdm.notebook import tqdm\n",
        "def plot_losses(train_losses, test_losses):\n",
        "    clear_output()\n",
        "    fig, axs = plt.subplots(1, 2, figsize=(13, 4))\n",
        "    axs[0].plot(range(1, len(train_losses) + 1), train_losses, label='train')\n",
        "    axs[0].plot(range(1, len(test_losses) + 1), test_losses, label='test')\n",
        "    axs[0].set_ylabel('loss')\n",
        "    for ax in axs:\n",
        "        ax.set_xlabel('epoch')\n",
        "        ax.legend()\n",
        "\n",
        "    plt.show()"
      ],
      "metadata": {
        "id": "gPchtkEeijtJ"
      },
      "execution_count": 45,
      "outputs": []
    },
    {
      "cell_type": "code",
      "source": [
        "import numpy as np\n",
        "from sklearn.datasets import make_regression\n",
        "from sklearn.model_selection import train_test_split\n",
        "\n",
        "class SGDOptimizer:\n",
        "    def __init__(self, model, lr=0.01, momentum=0.0):\n",
        "        self.model = model\n",
        "        self.lr = lr\n",
        "        self.momentum = momentum\n",
        "        self.params = self._flatten(model.getParameters())\n",
        "        self.velocities = [np.zeros_like(p) for p in self.params]\n",
        "\n",
        "    def _flatten(self, params):\n",
        "        flat = []\n",
        "        for item in params:\n",
        "            if isinstance(item, (list, tuple)):\n",
        "                flat.extend(self._flatten(item))\n",
        "            elif isinstance(item, np.ndarray):\n",
        "                flat.append(item)\n",
        "            else:\n",
        "                raise ValueError(f\"Неподдерживаемый тип: {type(item)}\")\n",
        "        return flat\n",
        "\n",
        "    def step(self):\n",
        "        grads = self._flatten(self.model.getGradParameters())\n",
        "\n",
        "        for i in range(len(self.params)):\n",
        "            self.velocities[i] = self.momentum * self.velocities[i] - self.lr * grads[i]\n",
        "            self.params[i][...] += self.velocities[i]\n",
        "\n",
        "class LRScheduler:\n",
        "    def __init__(self, optimizer, patience=5, factor=0.1, min_lr=1e-6):\n",
        "        self.optimizer = optimizer\n",
        "        self.patience = patience\n",
        "        self.factor = factor\n",
        "        self.min_lr = min_lr\n",
        "        self.best_loss = float('inf')\n",
        "        self.counter = 0\n",
        "\n",
        "    def step(self, current_loss):\n",
        "        if current_loss < self.best_loss:\n",
        "            self.best_loss = current_loss\n",
        "            self.counter = 0\n",
        "        else:\n",
        "            self.counter += 1\n",
        "            if self.counter >= self.patience:\n",
        "                new_lr = max(self.optimizer.lr * self.factor, self.min_lr)\n",
        "                if new_lr < self.optimizer.lr:\n",
        "                    self.optimizer.lr = new_lr\n",
        "                    print(f\"Learning rate reduced to {self.optimizer.lr}\")\n",
        "                self.counter = 0\n",
        "\n",
        "# Генерация данных\n",
        "n_samples = 1000\n",
        "n_features = 10\n",
        "n_targets = 2\n",
        "noise = 0.2\n",
        "X, y = make_regression(n_samples=n_samples, n_features=n_features, n_targets=n_targets, noise=noise)\n",
        "X_train, X_test, y_train, y_test = train_test_split(X, y, test_size=0.3)\n",
        "X_train, X_val, y_train, y_val = train_test_split(X_train, y_train, test_size=0.3)\n",
        "\n",
        "def train_model(model, X_train, y_train, X_val, y_val, epochs=100, batch_size=128, lr=0.001):\n",
        "    criterion = MSECriterion()\n",
        "    optimizer = SGDOptimizer(model, lr=lr)\n",
        "    lr_scheduler = LRScheduler(optimizer)\n",
        "\n",
        "    train_losses = []\n",
        "    val_losses = []\n",
        "\n",
        "    for epoch in range(epochs):\n",
        "        model.train()\n",
        "        permutation = np.random.permutation(len(X_train))\n",
        "        batch_losses = []\n",
        "\n",
        "        for i in range(0, len(X_train), batch_size):\n",
        "            indices = permutation[i:i+batch_size]\n",
        "            X_batch = X_train[indices]\n",
        "            y_batch = y_train[indices]\n",
        "            output = model.forward(X_batch)\n",
        "            loss = criterion.forward(output, y_batch)\n",
        "            grad = criterion.backward(output, y_batch)\n",
        "            model.backward(X_batch, grad)\n",
        "            optimizer.step()\n",
        "            model.zeroGradParameters()\n",
        "            batch_losses.append(loss)\n",
        "\n",
        "        train_loss = np.mean(batch_losses)\n",
        "        train_losses.append(train_loss)\n",
        "        model.evaluate()\n",
        "        val_output = model.forward(X_val)\n",
        "        val_loss = criterion.forward(val_output, y_val)\n",
        "        val_losses.append(val_loss)\n",
        "\n",
        "        lr_scheduler.step(val_loss)\n",
        "        if epoch % 10 == 0:\n",
        "          print(f\"Epoch {epoch+1}/{epochs} | Train Loss: {train_loss:.4f} | Val Loss: {val_loss:.4f}\")\n",
        "\n",
        "    plot_losses(train_losses, val_losses)\n",
        "    return train_losses, val_losses\n",
        "\n",
        "# Создание и обучение модели\n",
        "raz = Sequential()\n",
        "raz.add(Linear(n_features, 128))\n",
        "raz.add(BatchNormalization())\n",
        "raz.add(ReLU())\n",
        "raz.add(Dropout(p=0.5))\n",
        "raz.add(Linear(128, n_targets))\n",
        "\n",
        "train_losses, val_losses = train_model(\n",
        "    model=raz,\n",
        "    X_train=X_train,\n",
        "    y_train=y_train,\n",
        "    X_val=X_val,\n",
        "    y_val=y_val,\n",
        "    epochs=50,\n",
        "    lr=0.001\n",
        ")\n",
        "\n",
        "raz.evaluate()\n",
        "test_pred = raz.forward(X_test)\n",
        "small_test_loss = MSECriterion().forward(test_pred, y_test)"
      ],
      "metadata": {
        "colab": {
          "base_uri": "https://localhost:8080/",
          "height": 428
        },
        "id": "ScE5-YadkmVL",
        "outputId": "c21ba3f0-c897-4175-9bc6-7b233cd3b730"
      },
      "execution_count": 53,
      "outputs": [
        {
          "output_type": "stream",
          "name": "stderr",
          "text": [
            "<ipython-input-45-529b9eb37fba>:13: UserWarning: No artists with labels found to put in legend.  Note that artists whose label start with an underscore are ignored when legend() is called with no argument.\n",
            "  ax.legend()\n"
          ]
        },
        {
          "output_type": "display_data",
          "data": {
            "text/plain": [
              "<Figure size 1300x400 with 2 Axes>"
            ],
            "image/png": "[encoded data removed]"
          },
          "metadata": {}
        }
      ]
    },
    {
      "cell_type": "code",
      "source": [
        "dva = Sequential()\n",
        "dva.add(Linear(n_features, 256))\n",
        "dva.add(BatchNormalization())\n",
        "dva.add(ELU())\n",
        "dva.add(Dropout(p=0.2))\n",
        "dva.add(Linear(256, 128))\n",
        "dva.add(BatchNormalization())\n",
        "dva.add(ReLU())\n",
        "dva.add(Linear(128, n_targets))\n",
        "\n",
        "train_losses, val_losses = train_model(\n",
        "    model=dva,\n",
        "    X_train=X_train,\n",
        "    y_train=y_train,\n",
        "    X_val=X_val,\n",
        "    y_val=y_val,\n",
        "    epochs=40,\n",
        "    lr=0.01\n",
        ")\n",
        "\n",
        "dva.evaluate()\n",
        "test_pred = dva.forward(X_test)\n",
        "medium_test_loss = MSECriterion().forward(test_pred, y_test)"
      ],
      "metadata": {
        "colab": {
          "base_uri": "https://localhost:8080/",
          "height": 428
        },
        "id": "7aXVj_wwmkAj",
        "outputId": "b569606f-4652-4258-aacc-99fdcb6e5c0d"
      },
      "execution_count": 76,
      "outputs": [
        {
          "output_type": "stream",
          "name": "stderr",
          "text": [
            "<ipython-input-45-529b9eb37fba>:13: UserWarning: No artists with labels found to put in legend.  Note that artists whose label start with an underscore are ignored when legend() is called with no argument.\n",
            "  ax.legend()\n"
          ]
        },
        {
          "output_type": "display_data",
          "data": {
            "text/plain": [
              "<Figure size 1300x400 with 2 Axes>"
            ],
            "image/png": "[encoded data removed]"
          },
          "metadata": {}
        }
      ]
    },
    {
      "cell_type": "code",
      "source": [
        "tri = Sequential()\n",
        "tri.add(Linear(n_features, 256))\n",
        "tri.add(BatchNormalization())\n",
        "tri.add(ReLU())\n",
        "tri.add(Dropout(p=0.2))\n",
        "tri.add(Linear(256, 128))\n",
        "tri.add(BatchNormalization())\n",
        "tri.add(Gelu())\n",
        "tri.add(Linear(128, 64))\n",
        "tri.add(BatchNormalization())\n",
        "tri.add(ReLU())\n",
        "tri.add(Linear(64, n_targets))\n",
        "\n",
        "train_losses, val_losses = train_model(\n",
        "    model=tri,\n",
        "    X_train=X_train,\n",
        "    y_train=y_train,\n",
        "    X_val=X_val,\n",
        "    y_val=y_val,\n",
        "    epochs=20,\n",
        "    lr=0.05\n",
        ")\n",
        "\n",
        "tri.evaluate()\n",
        "test_pred = tri.forward(X_test)\n",
        "large_test_loss = MSECriterion().forward(test_pred, y_test)\n",
        "r2 = r2_score(y_test, test_pred)\n",
        "print(f\"\\nTest Results: MSE = {large_test_loss:.4f}, R2 = {r2:.4f}\")"
      ],
      "metadata": {
        "colab": {
          "base_uri": "https://localhost:8080/",
          "height": 462
        },
        "id": "mrYpZ8pFmnI9",
        "outputId": "4705b9d3-16ea-4004-e767-66d1eb0d4e95"
      },
      "execution_count": 68,
      "outputs": [
        {
          "output_type": "stream",
          "name": "stderr",
          "text": [
            "<ipython-input-45-529b9eb37fba>:13: UserWarning: No artists with labels found to put in legend.  Note that artists whose label start with an underscore are ignored when legend() is called with no argument.\n",
            "  ax.legend()\n"
          ]
        },
        {
          "output_type": "display_data",
          "data": {
            "text/plain": [
              "<Figure size 1300x400 with 2 Axes>"
            ],
            "image/png": "[encoded data removed]"
          },
          "metadata": {}
        },
        {
          "output_type": "stream",
          "name": "stdout",
          "text": [
            "\n",
            "Test Results: MSE = 180.6143, R2 = 0.9974\n"
          ]
        }
      ]
    },
    {
      "cell_type": "code",
      "source": [
        "def mnist(input_channels, num_classes):\n",
        "    model = Sequential()\n",
        "    model.add(Conv2d())\n",
        "    model.add(BatchNormalization())\n",
        "    model.add(ReLU())\n",
        "    model.add(MaxPool2d())\n",
        "    return model\n",
        "criterion = ClassNLLCriterion()"
      ],
      "metadata": {
        "id": "HPxEzQQUsBuU"
      },
      "execution_count": 78,
      "outputs": []
    },
    {
      "cell_type": "code",
      "source": [
        "train_losses, train_acc = [], []\n",
        "test_losses, test_acc = [], []\n",
        "\n",
        "transform = transforms.Compose([\n",
        "    transforms.ToTensor(),\n",
        "    transforms.Normalize((0.5,), (0.5,))\n",
        "])\n",
        "\n",
        "full_trainset = torchvision.datasets.MNIST(root='./data', train=True, download=True, transform=transform)\n",
        "trainset, _ = torch.utils.data.random_split(full_trainset, [1000, len(full_trainset) - 1000])\n",
        "train_loader = torch.utils.data.DataLoader(trainset, batch_size=64, shuffle=True)\n",
        "\n",
        "testset = torchvision.datasets.MNIST(root='./data', train=False, download=True, transform=transform)\n",
        "test_loader = torch.utils.data.DataLoader(testset, batch_size=64, shuffle=False)\n",
        "\n",
        "\n",
        "\n",
        "for epoch in range(NUM_EPOCHS):\n",
        "    train_loss, train_accuracy = 0.0, 0.0\n",
        "\n",
        "    model.train()\n",
        "    for X_batch, y_batch in train_loader:\n",
        "\n",
        "        optimizer.zero_grad()\n",
        "        logits = model(Flatten(X_batch, start_dim=1))\n",
        "        loss = criterion(logits, y_batch)\n",
        "        loss.backward()\n",
        "        optimizer.step()\n",
        "\n",
        "        train_loss += loss.item() * X_batch.shape[0]\n",
        "\n",
        "        predictions = torch.argmax(logits, dim=-1)\n",
        "        train_accuracy += (predictions == y_batch).sum().item()\n",
        "\n",
        "    n_train = len(train_loader.dataset)\n",
        "    train_loss /= n_train\n",
        "    train_losses.append(train_loss)\n",
        "\n",
        "    train_accuracy /= n_train\n",
        "    train_acc.append(train_accuracy)\n",
        "\n",
        "    test_loss, test_accuracy = 0.0, 0.0\n",
        "\n",
        "    model.eval()\n",
        "    with torch.no_grad():\n",
        "        for X_batch, y_batch in test_loader:\n",
        "\n",
        "            logits = model(Flatten(X_batch, start_dim=1))\n",
        "            loss = criterion(logits, y_batch)\n",
        "\n",
        "            test_loss += loss.item() * X_batch.shape[0]\n",
        "\n",
        "            predictions = torch.argmax(logits, dim=-1)\n",
        "            test_accuracy += (predictions == y_batch).sum().item()\n",
        "\n",
        "    n_test = len(test_loader.dataset)\n",
        "    test_loss /= n_test\n",
        "    test_losses.append(test_loss)\n",
        "\n",
        "    test_accuracy /= n_test\n",
        "    test_acc.append(test_accuracy)\n",
        "\n",
        "    plot_losses(train_losses, test_losses, train_acc, test_acc)"
      ],
      "metadata": {
        "colab": {
          "base_uri": "https://localhost:8080/",
          "height": 211
        },
        "id": "DauuDy_cUx4j",
        "outputId": "8eebb2c2-e867-4049-e4bc-57365193a31a"
      },
      "execution_count": 69,
      "outputs": [
        {
          "output_type": "error",
          "ename": "NameError",
          "evalue": "name 'transforms' is not defined",
          "traceback": [
            "\u001b[0;31m---------------------------------------------------------------------------\u001b[0m",
            "\u001b[0;31mNameError\u001b[0m                                 Traceback (most recent call last)",
            "\u001b[0;32m<ipython-input-69-eb5c41553e8d>\u001b[0m in \u001b[0;36m<cell line: 0>\u001b[0;34m()\u001b[0m\n\u001b[1;32m      2\u001b[0m \u001b[0mtest_losses\u001b[0m\u001b[0;34m,\u001b[0m \u001b[0mtest_acc\u001b[0m \u001b[0;34m=\u001b[0m \u001b[0;34m[\u001b[0m\u001b[0;34m]\u001b[0m\u001b[0;34m,\u001b[0m \u001b[0;34m[\u001b[0m\u001b[0;34m]\u001b[0m\u001b[0;34m\u001b[0m\u001b[0;34m\u001b[0m\u001b[0m\n\u001b[1;32m      3\u001b[0m \u001b[0;34m\u001b[0m\u001b[0m\n\u001b[0;32m----> 4\u001b[0;31m transform = transforms.Compose([\n\u001b[0m\u001b[1;32m      5\u001b[0m     \u001b[0mtransforms\u001b[0m\u001b[0;34m.\u001b[0m\u001b[0mToTensor\u001b[0m\u001b[0;34m(\u001b[0m\u001b[0;34m)\u001b[0m\u001b[0;34m,\u001b[0m\u001b[0;34m\u001b[0m\u001b[0;34m\u001b[0m\u001b[0m\n\u001b[1;32m      6\u001b[0m     \u001b[0mtransforms\u001b[0m\u001b[0;34m.\u001b[0m\u001b[0mNormalize\u001b[0m\u001b[0;34m(\u001b[0m\u001b[0;34m(\u001b[0m\u001b[0;36m0.5\u001b[0m\u001b[0;34m,\u001b[0m\u001b[0;34m)\u001b[0m\u001b[0;34m,\u001b[0m \u001b[0;34m(\u001b[0m\u001b[0;36m0.5\u001b[0m\u001b[0;34m,\u001b[0m\u001b[0;34m)\u001b[0m\u001b[0;34m)\u001b[0m\u001b[0;34m\u001b[0m\u001b[0;34m\u001b[0m\u001b[0m\n",
            "\u001b[0;31mNameError\u001b[0m: name 'transforms' is not defined"
          ]
        }
      ]
    },
    {
      "cell_type": "code",
      "source": [],
      "metadata": {
        "id": "hLSnubm1J18U"
      },
      "execution_count": null,
      "outputs": []
    }
  ],
  "metadata": {
    "kernelspec": {
      "display_name": "Python 3",
      "name": "python3"
    },
    "language_info": {
      "name": "python"
    },
    "colab": {
      "provenance": [],
      "gpuType": "T4"
    },
    "accelerator": "GPU"
  },
  "nbformat": 4,
  "nbformat_minor": 0
}